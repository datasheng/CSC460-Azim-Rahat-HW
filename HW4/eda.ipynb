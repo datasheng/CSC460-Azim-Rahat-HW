{
 "cells": [
  {
   "cell_type": "code",
   "execution_count": 26,
   "id": "857bfc00",
   "metadata": {},
   "outputs": [],
   "source": [
    "import pandas as pd\n",
    "import numpy as np\n",
    "import matplotlib.pyplot as plt\n",
    "import seaborn as sns\n",
    "\n",
    "# load dataset\n",
    "file_path = 'twitchdata-update.csv'\n",
    "df = pd.read_csv(file_path)"
   ]
  },
  {
   "cell_type": "code",
   "execution_count": 27,
   "id": "b37e6147",
   "metadata": {},
   "outputs": [
    {
     "name": "stdout",
     "output_type": "stream",
     "text": [
      "    Channel  Watch time(Minutes)  Stream time(minutes)  Peak viewers  \\\n",
      "0     xQcOW           6196161750                215250        222720   \n",
      "1  summit1g           6091677300                211845        310998   \n",
      "2    Gaules           5644590915                515280        387315   \n",
      "3  ESL_CSGO           3970318140                517740        300575   \n",
      "4      Tfue           3671000070                123660        285644   \n",
      "\n",
      "   Average viewers  Followers  Followers gained  Views gained  Partnered  \\\n",
      "0            27716    3246298           1734810      93036735       True   \n",
      "1            25610    5310163           1370184      89705964       True   \n",
      "2            10976    1767635           1023779     102611607       True   \n",
      "3             7714    3944850            703986     106546942       True   \n",
      "4            29602    8938903           2068424      78998587       True   \n",
      "\n",
      "   Mature    Language  \n",
      "0   False     English  \n",
      "1   False     English  \n",
      "2    True  Portuguese  \n",
      "3   False     English  \n",
      "4   False     English  \n",
      "              Channel  Watch time(Minutes)  Stream time(minutes)  \\\n",
      "995         LITkillah            122524635                 13560   \n",
      "996  빅헤드 (bighead033)            122523705                153000   \n",
      "997    마스카 (newmasca)            122452320                217410   \n",
      "998     AndyMilonakis            122311065                104745   \n",
      "999              Remx            122192850                 99180   \n",
      "\n",
      "     Peak viewers  Average viewers  Followers  Followers gained  Views gained  \\\n",
      "995         21359             9104     601927            562691       2162107   \n",
      "996          3940              793     213212             52289       4399897   \n",
      "997          6431              567     109068             -4942       3417970   \n",
      "998         10543             1153     547446            109111       3926918   \n",
      "999         13788             1205     178553             59432       2049420   \n",
      "\n",
      "     Partnered  Mature Language  \n",
      "995       True   False  Spanish  \n",
      "996       True   False   Korean  \n",
      "997       True   False   Korean  \n",
      "998       True   False  English  \n",
      "999       True   False   French  \n",
      "<class 'pandas.core.frame.DataFrame'>\n",
      "RangeIndex: 1000 entries, 0 to 999\n",
      "Data columns (total 11 columns):\n",
      " #   Column                Non-Null Count  Dtype \n",
      "---  ------                --------------  ----- \n",
      " 0   Channel               1000 non-null   object\n",
      " 1   Watch time(Minutes)   1000 non-null   int64 \n",
      " 2   Stream time(minutes)  1000 non-null   int64 \n",
      " 3   Peak viewers          1000 non-null   int64 \n",
      " 4   Average viewers       1000 non-null   int64 \n",
      " 5   Followers             1000 non-null   int64 \n",
      " 6   Followers gained      1000 non-null   int64 \n",
      " 7   Views gained          1000 non-null   int64 \n",
      " 8   Partnered             1000 non-null   bool  \n",
      " 9   Mature                1000 non-null   bool  \n",
      " 10  Language              1000 non-null   object\n",
      "dtypes: bool(2), int64(7), object(2)\n",
      "memory usage: 72.4+ KB\n",
      "None\n",
      "       Watch time(Minutes)  Stream time(minutes)   Peak viewers  \\\n",
      "count         1.000000e+03           1000.000000    1000.000000   \n",
      "mean          4.184279e+08         120515.160000   37065.051000   \n",
      "std           5.496355e+08          85376.201364   60314.307686   \n",
      "min           1.221928e+08           3465.000000     496.000000   \n",
      "25%           1.631899e+08          73758.750000    9113.750000   \n",
      "50%           2.349908e+08         108240.000000   16676.000000   \n",
      "75%           4.337399e+08         141843.750000   37569.750000   \n",
      "max           6.196162e+09         521445.000000  639375.000000   \n",
      "\n",
      "       Average viewers     Followers  Followers gained  Views gained  \n",
      "count      1000.000000  1.000000e+03      1.000000e+03  1.000000e+03  \n",
      "mean       4781.040000  5.700541e+05      2.055185e+05  1.166817e+07  \n",
      "std        8453.684965  8.044134e+05      3.399137e+05  2.490572e+07  \n",
      "min         235.000000  3.660000e+03     -1.577200e+04  1.757880e+05  \n",
      "25%        1457.750000  1.705462e+05      4.375825e+04  3.880602e+06  \n",
      "50%        2425.000000  3.180630e+05      9.835200e+04  6.456324e+06  \n",
      "75%        4786.250000  6.243322e+05      2.361308e+05  1.219676e+07  \n",
      "max      147643.000000  8.938903e+06      3.966525e+06  6.701375e+08  \n"
     ]
    }
   ],
   "source": [
    "# display first few rows\n",
    "print(df.head())\n",
    "\n",
    "# display last few rows\n",
    "print(df.tail())\n",
    "\n",
    "# check info (data types and missing values)\n",
    "print(df.info())\n",
    "\n",
    "# display stats\n",
    "print(df.describe())\n",
    "\n",
    "## output might be truncated or split into diff lines"
   ]
  },
  {
   "cell_type": "code",
   "execution_count": null,
   "id": "fb4e136b",
   "metadata": {},
   "outputs": [
    {
     "ename": "NameError",
     "evalue": "name 'numerical_cols' is not defined",
     "output_type": "error",
     "traceback": [
      "\u001b[31m---------------------------------------------------------------------------\u001b[39m",
      "\u001b[31mNameError\u001b[39m                                 Traceback (most recent call last)",
      "\u001b[36mCell\u001b[39m\u001b[36m \u001b[39m\u001b[32mIn[28]\u001b[39m\u001b[32m, line 1\u001b[39m\n\u001b[32m----> \u001b[39m\u001b[32m1\u001b[39m \u001b[38;5;28;01mfor\u001b[39;00m col \u001b[38;5;129;01min\u001b[39;00m \u001b[43mnumerical_cols\u001b[49m:\n\u001b[32m      2\u001b[39m     \u001b[38;5;28mprint\u001b[39m(\u001b[33mf\u001b[39m\u001b[33m\"\u001b[39m\u001b[33m--- \u001b[39m\u001b[38;5;132;01m{\u001b[39;00mcol\u001b[38;5;132;01m}\u001b[39;00m\u001b[33m ---\u001b[39m\u001b[33m\"\u001b[39m)\n\u001b[32m      3\u001b[39m     \u001b[38;5;28mprint\u001b[39m(\u001b[33m\"\u001b[39m\u001b[33mMin:\u001b[39m\u001b[33m\"\u001b[39m, df[col].min())\n",
      "\u001b[31mNameError\u001b[39m: name 'numerical_cols' is not defined"
     ]
    }
   ],
   "source": [
    "# setting up visualization style\n",
    "sns.set_theme(style=\"whitegrid\")\n",
    "\n",
    "numerical_cols = df.select_dtypes(include=['number']).columns.tolist()\n",
    "\n",
    "# histograms for numerical columns\n",
    "plt.figure(figsize=(15, 10))\n",
    "for i, col in enumerate(numerical_cols, 1):\n",
    "    plt.subplot(3, 3, i)\n",
    "    sns.histplot(df[col], kde=True, bins=30, color='blue')\n",
    "    plt.title(f'Histogram of {col}')\n",
    "    plt.xlabel\n",
    "    plt.ylabel('Frequency')\n",
    "\n",
    "plt.tight_layout()\n",
    "plt.show()"
   ]
  },
  {
   "cell_type": "code",
   "execution_count": null,
   "id": "489ad206",
   "metadata": {},
   "outputs": [],
   "source": [
    "# categorical columns visualization\n",
    "categorical_cols = ['Partnered', 'Mature', 'Language']\n",
    "\n",
    "# bar plots for categorical columns\n",
    "plt.figure(figsize=(15, 5))\n",
    "for i, col in enumerate(categorical_cols, 1):\n",
    "    plt.subplot(1, 3, i)\n",
    "    sns.countplot(x=df[col], palette='Set2')\n",
    "    plt.title(f'Count of {col}')\n",
    "    plt.xlabel(col)\n",
    "    plt.ylabel('Count')\n",
    "\n",
    "    if col == 'Language':\n",
    "        plt.xticks(rotation=90, ha='right')\n",
    "\n",
    "plt.tight_layout()\n",
    "plt.show()"
   ]
  },
  {
   "cell_type": "code",
   "execution_count": null,
   "id": "e344907b",
   "metadata": {},
   "outputs": [
    {
     "ename": "_IncompleteInputError",
     "evalue": "incomplete input (282285168.py, line 7)",
     "output_type": "error",
     "traceback": [
      "  \u001b[36mCell\u001b[39m\u001b[36m \u001b[39m\u001b[32mIn[29]\u001b[39m\u001b[32m, line 7\u001b[39m\n\u001b[31m    \u001b[39m\u001b[31mprint(\u001b[39m\n          ^\n\u001b[31m_IncompleteInputError\u001b[39m\u001b[31m:\u001b[39m incomplete input\n"
     ]
    }
   ],
   "source": [
    "# statistical summaries for cols\n",
    "numerical_summary = df[numerical_cols].describe().T\n",
    "\n",
    "numerical_summary.rename(columns={\"50%\": \"50% (Median)\"}, inplace=True)\n",
    "\n",
    "# display summary of key statistics\n",
    "print(\"Statistical Summary (Max, Min, Mean, Median):\")\n",
    "print(numerical_summary[['min', '25%', '50% (Median)', '75%', 'max', 'mean']])\n",
    "\n",
    "# detect outliers using IQR method\n",
    "Q1 = df[numerical_cols].quantile(0.25)\n",
    "Q3 = df[numerical_cols].quantile(0.75)\n",
    "IQR = Q3 - Q1\n",
    "\n",
    "# define outliers\n",
    "outliers = (df[numerical_cols] < (Q1 - 1.5 * IQR)) | (df[numerical_cols] > (Q3 + 1.5 * IQR))\n",
    "\n",
    "# display # outliers per col\n",
    "outlier_counts = outliers.sum()\n",
    "print(\"Outliers:\")\n",
    "print(outlier_counts)"
   ]
  }
 ],
 "metadata": {
  "kernelspec": {
   "display_name": "Python 3",
   "language": "python",
   "name": "python3"
  },
  "language_info": {
   "codemirror_mode": {
    "name": "ipython",
    "version": 3
   },
   "file_extension": ".py",
   "mimetype": "text/x-python",
   "name": "python",
   "nbconvert_exporter": "python",
   "pygments_lexer": "ipython3",
   "version": "3.13.7"
  }
 },
 "nbformat": 4,
 "nbformat_minor": 5
}
