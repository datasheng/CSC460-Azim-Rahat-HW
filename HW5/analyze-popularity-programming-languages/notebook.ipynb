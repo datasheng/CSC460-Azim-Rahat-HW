{
 "cells": [
  {
   "cell_type": "markdown",
   "id": "e8f3884e-74ca-48c1-8db2-9c9fc3ebefd2",
   "metadata": {},
   "source": [
    "<center><img src=\"prog_lang.jpg\" width=500></center>"
   ]
  },
  {
   "cell_type": "markdown",
   "id": "05a0f70e-9402-46e6-b1b8-7c6a4da7213c",
   "metadata": {},
   "source": [
    "How can you determine which programming languages and technologies are most widely used? Which languages are gaining or losing popularity, helping you decide where to focus your efforts?\n",
    "\n",
    "One excellent data source is Stack Overflow, a programming question-and-answer site with more than 16 million questions on programming topics. Each Stack Overflow question is tagged with a label identifying its topic or technology. By counting the number of questions related to each technology, you can estimate the popularity of different programming languages.\n",
    "\n",
    "In this project, you will use data from the Stack Exchange Data Explorer to examine the relative popularity of R compared to other programming languages.\n",
    "\n",
    "You'll work with a dataset containing one observation per tag per year, including the number of questions for that tag and the total number of questions that year.\n",
    "\n",
    "`stack_overflow_data.csv`\n",
    "|Column|Description|\n",
    "|------|-----------|\n",
    "|`year`|The year the question was asked (2008-2020)|\n",
    "|`tag`|A word or phrase that describes the topic of the question, such as the programming language|\n",
    "|`num_questions`|The number of questions with a certain tag in that year|\n",
    "|`year_total`|The total number of questions asked in that year|"
   ]
  },
  {
   "cell_type": "code",
   "execution_count": null,
   "id": "d9bb4831-fbd4-4d9c-8c7d-f7b8533e0e78",
   "metadata": {
    "collapsed": true,
    "executionCancelledAt": null,
    "executionTime": 19,
    "jupyter": {
     "outputs_hidden": true,
     "source_hidden": false
    },
    "lastExecutedAt": 1760652485022,
    "lastExecutedByKernel": "9ac28c3f-f6d6-443a-a478-c1810b82d900",
    "lastScheduledRunId": null,
    "lastSuccessfullyExecutedCode": "# Load necessary packages\nlibrary(readr)\nlibrary(dplyr)\nlibrary(ggplot2)",
    "outputsMetadata": {
     "0": {
      "height": 248,
      "type": "stream"
     },
     "1": {
      "height": 311,
      "type": "stream"
     }
    },
    "vscode": {
     "languageId": "r"
    }
   },
   "outputs": [],
   "source": [
    "# Load necessary packages\n",
    "library(readr)\n",
    "library(dplyr)\n",
    "library(ggplot2)"
   ]
  },
  {
   "cell_type": "code",
   "execution_count": null,
   "id": "2d398d40-520a-49b4-9c1a-baa61e18c2af",
   "metadata": {
    "collapsed": true,
    "executionCancelledAt": null,
    "executionTime": 215,
    "jupyter": {
     "outputs_hidden": true,
     "source_hidden": false
    },
    "lastExecutedAt": 1760652485237,
    "lastExecutedByKernel": "9ac28c3f-f6d6-443a-a478-c1810b82d900",
    "lastScheduledRunId": null,
    "lastSuccessfullyExecutedCode": "# Load the dataset\ndata <- read_csv(\"stack_overflow_data.csv\")",
    "outputsMetadata": {
     "0": {
      "height": 185,
      "type": "stream"
     }
    },
    "vscode": {
     "languageId": "r"
    }
   },
   "outputs": [
    {
     "name": "stderr",
     "output_type": "stream",
     "text": [
      "\u001b[1mRows: \u001b[22m\u001b[34m420066\u001b[39m \u001b[1mColumns: \u001b[22m\u001b[34m4\u001b[39m\n",
      "\u001b[36m──\u001b[39m \u001b[1mColumn specification\u001b[22m \u001b[36m────────────────────────────────────────────────────────\u001b[39m\n",
      "\u001b[1mDelimiter:\u001b[22m \",\"\n",
      "\u001b[31mchr\u001b[39m (1): tag\n",
      "\u001b[32mdbl\u001b[39m (3): year, num_questions, year_total\n",
      "\n",
      "\u001b[36mℹ\u001b[39m Use `spec()` to retrieve the full column specification for this data.\n",
      "\u001b[36mℹ\u001b[39m Specify the column types or set `show_col_types = FALSE` to quiet this message.\n"
     ]
    }
   ],
   "source": [
    "# Load the dataset\n",
    "data <- read_csv(\"stack_overflow_data.csv\")"
   ]
  },
  {
   "cell_type": "code",
   "execution_count": null,
   "id": "6cc33414-baf2-4eac-b90f-814d247618ed",
   "metadata": {
    "executionCancelledAt": null,
    "executionTime": null,
    "lastExecutedAt": null,
    "lastExecutedByKernel": null,
    "lastScheduledRunId": null,
    "lastSuccessfullyExecutedCode": null,
    "outputsMetadata": {
     "0": {
      "height": 275,
      "tableState": {
       "customFilter": {
        "const": {
         "type": "boolean",
         "valid": true,
         "value": true
        },
        "id": "c4d5e283-0128-4c6a-9868-38ca0d1d9039",
        "nodeType": "const"
       },
       "quickFilterText": ""
      },
      "type": "dataFrame"
     }
    },
    "vscode": {
     "languageId": "r"
    }
   },
   "outputs": [
    {
     "data": {
      "application/com.datacamp.data-table.v2+json": {
       "table": {
        "data": {
         "index": [
          "1",
          "2",
          "3",
          "4",
          "5",
          "6"
         ],
         "num_questions": [
          69,
          30,
          21,
          35,
          6,
          1
         ],
         "tag": [
          "treeview",
          "scheduled-tasks",
          "specifications",
          "rendering",
          "http-post",
          "static-assert"
         ],
         "year": [
          2008,
          2008,
          2008,
          2008,
          2008,
          2008
         ],
         "year_total": [
          168541,
          168541,
          168541,
          168541,
          168541,
          168541
         ]
        },
        "schema": {
         "fields": [
          {
           "name": "index",
           "type": "string"
          },
          {
           "name": "year",
           "type": "number"
          },
          {
           "name": "tag",
           "type": "string"
          },
          {
           "name": "num_questions",
           "type": "number"
          },
          {
           "name": "year_total",
           "type": "number"
          }
         ],
         "pandas_version": "0.20.0",
         "primaryKey": [
          "index"
         ]
        }
       },
       "total_rows": 6,
       "truncation_type": null
      },
      "text/html": [
       "<table class=\"dataframe\">\n",
       "<caption>A tibble: 6 × 4</caption>\n",
       "<thead>\n",
       "\t<tr><th scope=col>year</th><th scope=col>tag</th><th scope=col>num_questions</th><th scope=col>year_total</th></tr>\n",
       "\t<tr><th scope=col>&lt;dbl&gt;</th><th scope=col>&lt;chr&gt;</th><th scope=col>&lt;dbl&gt;</th><th scope=col>&lt;dbl&gt;</th></tr>\n",
       "</thead>\n",
       "<tbody>\n",
       "\t<tr><td>2008</td><td>treeview       </td><td>69</td><td>168541</td></tr>\n",
       "\t<tr><td>2008</td><td>scheduled-tasks</td><td>30</td><td>168541</td></tr>\n",
       "\t<tr><td>2008</td><td>specifications </td><td>21</td><td>168541</td></tr>\n",
       "\t<tr><td>2008</td><td>rendering      </td><td>35</td><td>168541</td></tr>\n",
       "\t<tr><td>2008</td><td>http-post      </td><td> 6</td><td>168541</td></tr>\n",
       "\t<tr><td>2008</td><td>static-assert  </td><td> 1</td><td>168541</td></tr>\n",
       "</tbody>\n",
       "</table>\n"
      ],
      "text/latex": [
       "A tibble: 6 × 4\n",
       "\\begin{tabular}{llll}\n",
       " year & tag & num\\_questions & year\\_total\\\\\n",
       " <dbl> & <chr> & <dbl> & <dbl>\\\\\n",
       "\\hline\n",
       "\t 2008 & treeview        & 69 & 168541\\\\\n",
       "\t 2008 & scheduled-tasks & 30 & 168541\\\\\n",
       "\t 2008 & specifications  & 21 & 168541\\\\\n",
       "\t 2008 & rendering       & 35 & 168541\\\\\n",
       "\t 2008 & http-post       &  6 & 168541\\\\\n",
       "\t 2008 & static-assert   &  1 & 168541\\\\\n",
       "\\end{tabular}\n"
      ],
      "text/markdown": [
       "\n",
       "A tibble: 6 × 4\n",
       "\n",
       "| year &lt;dbl&gt; | tag &lt;chr&gt; | num_questions &lt;dbl&gt; | year_total &lt;dbl&gt; |\n",
       "|---|---|---|---|\n",
       "| 2008 | treeview        | 69 | 168541 |\n",
       "| 2008 | scheduled-tasks | 30 | 168541 |\n",
       "| 2008 | specifications  | 21 | 168541 |\n",
       "| 2008 | rendering       | 35 | 168541 |\n",
       "| 2008 | http-post       |  6 | 168541 |\n",
       "| 2008 | static-assert   |  1 | 168541 |\n",
       "\n"
      ],
      "text/plain": [
       "  year tag             num_questions year_total\n",
       "1 2008 treeview        69            168541    \n",
       "2 2008 scheduled-tasks 30            168541    \n",
       "3 2008 specifications  21            168541    \n",
       "4 2008 rendering       35            168541    \n",
       "5 2008 http-post        6            168541    \n",
       "6 2008 static-assert    1            168541    "
      ]
     },
     "metadata": {},
     "output_type": "display_data"
    }
   ],
   "source": [
    "# View the dataset\n",
    "head(data)"
   ]
  },
  {
   "cell_type": "code",
   "execution_count": null,
   "id": "02a44261-cc07-4941-ac38-211400046732",
   "metadata": {
    "executionCancelledAt": null,
    "executionTime": null,
    "lastExecutedAt": null,
    "lastExecutedByKernel": null,
    "lastScheduledRunId": null,
    "lastSuccessfullyExecutedCode": null,
    "outputsMetadata": {
     "0": {
      "height": 140,
      "tableState": {
       "customFilter": {
        "const": {
         "type": "boolean",
         "valid": true,
         "value": true
        },
        "id": "cdea6cb8-40ae-42f0-b2e0-eaea345d961f",
        "nodeType": "const"
       }
      },
      "type": "dataFrame"
     },
     "1": {
      "height": 50,
      "tableState": {
       "customFilter": {
        "const": {
         "type": "boolean",
         "valid": true,
         "value": true
        },
        "id": "cdea6cb8-40ae-42f0-b2e0-eaea345d961f",
        "nodeType": "const"
       }
      },
      "type": "dataFrame"
     }
    },
    "vscode": {
     "languageId": "r"
    }
   },
   "outputs": [
    {
     "data": {
      "application/com.datacamp.data-table.v2+json": {
       "table": {
        "data": {
         "index": [
          "1"
         ],
         "num_questions": [
          52662
         ],
         "percentage": [
          0.9658
         ],
         "tag": [
          "r"
         ],
         "year": [
          2020
         ],
         "year_total": [
          5452545
         ]
        },
        "schema": {
         "fields": [
          {
           "name": "index",
           "type": "string"
          },
          {
           "name": "year",
           "type": "number"
          },
          {
           "name": "tag",
           "type": "string"
          },
          {
           "name": "num_questions",
           "type": "number"
          },
          {
           "name": "year_total",
           "type": "number"
          },
          {
           "name": "percentage",
           "type": "number"
          }
         ],
         "pandas_version": "0.20.0",
         "primaryKey": [
          "index"
         ]
        }
       },
       "total_rows": 1,
       "truncation_type": null
      },
      "text/html": [
       "<table class=\"dataframe\">\n",
       "<caption>A tibble: 1 × 5</caption>\n",
       "<thead>\n",
       "\t<tr><th scope=col>year</th><th scope=col>tag</th><th scope=col>num_questions</th><th scope=col>year_total</th><th scope=col>percentage</th></tr>\n",
       "\t<tr><th scope=col>&lt;dbl&gt;</th><th scope=col>&lt;chr&gt;</th><th scope=col>&lt;dbl&gt;</th><th scope=col>&lt;dbl&gt;</th><th scope=col>&lt;dbl&gt;</th></tr>\n",
       "</thead>\n",
       "<tbody>\n",
       "\t<tr><td>2020</td><td>r</td><td>52662</td><td>5452545</td><td>0.9658242</td></tr>\n",
       "</tbody>\n",
       "</table>\n"
      ],
      "text/latex": [
       "A tibble: 1 × 5\n",
       "\\begin{tabular}{lllll}\n",
       " year & tag & num\\_questions & year\\_total & percentage\\\\\n",
       " <dbl> & <chr> & <dbl> & <dbl> & <dbl>\\\\\n",
       "\\hline\n",
       "\t 2020 & r & 52662 & 5452545 & 0.9658242\\\\\n",
       "\\end{tabular}\n"
      ],
      "text/markdown": [
       "\n",
       "A tibble: 1 × 5\n",
       "\n",
       "| year &lt;dbl&gt; | tag &lt;chr&gt; | num_questions &lt;dbl&gt; | year_total &lt;dbl&gt; | percentage &lt;dbl&gt; |\n",
       "|---|---|---|---|---|\n",
       "| 2020 | r | 52662 | 5452545 | 0.9658242 |\n",
       "\n"
      ],
      "text/plain": [
       "  year tag num_questions year_total percentage\n",
       "1 2020 r   52662         5452545    0.9658242 "
      ]
     },
     "metadata": {},
     "output_type": "display_data"
    },
    {
     "data": {
      "application/com.datacamp.data-table.v2+json": {
       "table": {
        "data": {
         "index": [
          "1",
          "2",
          "3",
          "4",
          "5"
         ],
         "tag": [
          "javascript",
          "python",
          "java",
          "android",
          "c#"
         ]
        },
        "schema": {
         "fields": [
          {
           "name": "index",
           "type": "string"
          },
          {
           "name": "tag",
           "type": "string"
          }
         ],
         "pandas_version": "0.20.0",
         "primaryKey": [
          "index"
         ]
        }
       },
       "total_rows": 5,
       "truncation_type": null
      },
      "text/html": [
       "<table class=\"dataframe\">\n",
       "<caption>A tibble: 5 × 1</caption>\n",
       "<thead>\n",
       "\t<tr><th scope=col>tag</th></tr>\n",
       "\t<tr><th scope=col>&lt;chr&gt;</th></tr>\n",
       "</thead>\n",
       "<tbody>\n",
       "\t<tr><td>javascript</td></tr>\n",
       "\t<tr><td>python    </td></tr>\n",
       "\t<tr><td>java      </td></tr>\n",
       "\t<tr><td>android   </td></tr>\n",
       "\t<tr><td>c#        </td></tr>\n",
       "</tbody>\n",
       "</table>\n"
      ],
      "text/latex": [
       "A tibble: 5 × 1\n",
       "\\begin{tabular}{l}\n",
       " tag\\\\\n",
       " <chr>\\\\\n",
       "\\hline\n",
       "\t javascript\\\\\n",
       "\t python    \\\\\n",
       "\t java      \\\\\n",
       "\t android   \\\\\n",
       "\t c\\#        \\\\\n",
       "\\end{tabular}\n"
      ],
      "text/markdown": [
       "\n",
       "A tibble: 5 × 1\n",
       "\n",
       "| tag &lt;chr&gt; |\n",
       "|---|\n",
       "| javascript |\n",
       "| python     |\n",
       "| java       |\n",
       "| android    |\n",
       "| c#         |\n",
       "\n"
      ],
      "text/plain": [
       "  tag       \n",
       "1 javascript\n",
       "2 python    \n",
       "3 java      \n",
       "4 android   \n",
       "5 c#        "
      ]
     },
     "metadata": {},
     "output_type": "display_data"
    }
   ],
   "source": [
    "# question 1\n",
    "\n",
    "# filter data for the year 2020 and the R tag\n",
    "r_2020 <- data %>%\n",
    "  filter(year == 2020, tag == \"r\") %>%\n",
    "  mutate(percentage = (num_questions / year_total) * 100)\n",
    "\n",
    "# Display the resulting data frame\n",
    "r_2020\n",
    "\n",
    "# question 2\n",
    "\n",
    "# filter data between 2015 and 2020, then sum by tag\n",
    "highest_tags <- data %>%\n",
    "  filter(year >= 2015 & year <= 2020) %>%\n",
    "  group_by(tag) %>%\n",
    "  summarise(total_questions = sum(num_questions, na.rm = TRUE)) %>%\n",
    "  arrange(desc(total_questions)) %>%\n",
    "  slice_head(n = 5) %>%\n",
    "  select(tag)\n",
    "\n",
    "highest_tags"
   ]
  }
 ],
 "metadata": {
  "colab": {
   "name": "Welcome to DataCamp Workspaces.ipynb",
   "provenance": []
  },
  "editor": "DataLab",
  "kernelspec": {
   "display_name": "R",
   "language": "R",
   "name": "ir"
  },
  "language_info": {
   "codemirror_mode": "r",
   "file_extension": ".r",
   "mimetype": "text/x-r-source",
   "name": "R",
   "pygments_lexer": "r",
   "version": "4.2.1"
  }
 },
 "nbformat": 4,
 "nbformat_minor": 5
}
