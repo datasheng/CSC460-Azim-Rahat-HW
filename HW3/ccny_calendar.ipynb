{
 "cells": [
  {
   "cell_type": "code",
   "execution_count": null,
   "id": "0f8b7253",
   "metadata": {},
   "outputs": [],
   "source": [
    "# imports\n",
    "import requests\n",
    "from bs4 import BeautifulSoup\n",
    "import pandas as pd\n",
    "\n",
    "url = \"https://www.ccny.cuny.edu/registrar/fall\"\n",
    "default_year = ',  2021' # necessary to fill in blank years"
   ]
  },
  {
   "cell_type": "code",
   "execution_count": null,
   "id": "e279fe8d",
   "metadata": {},
   "outputs": [],
   "source": [
    "html_doc = requests.get(url).text\n",
    "soup = BeautifulSoup(html_doc)\n",
    "# print(soup.prettify())\n",
    "table = soup.find_all('table')[0]\n",
    "# print(table)\n",
    "\n",
    "rows = table.find_all('tr')\n",
    "# print(rows)\n",
    "\n",
    "data = {\n",
    "    \"date\": [],\n",
    "    \"dow\": [], # day of week\n",
    "    \"text\": []\n",
    "}\n",
    "\n",
    "def clean_date(s: str) -> str:\n",
    "    start = s.strip().split('-')[0]\n",
    "    if ',' not in start:\n",
    "        start += default_year\n",
    "    return pd.to_datetime(start.strip(), format=\"%M %d, %Y\").date()"
   ]
  }
 ],
 "metadata": {
  "kernelspec": {
   "display_name": "Python 3",
   "language": "python",
   "name": "python3"
  },
  "language_info": {
   "codemirror_mode": {
    "name": "ipython",
    "version": 3
   },
   "file_extension": ".py",
   "mimetype": "text/x-python",
   "name": "python",
   "nbconvert_exporter": "python",
   "pygments_lexer": "ipython3",
   "version": "3.13.1"
  }
 },
 "nbformat": 4,
 "nbformat_minor": 5
}
