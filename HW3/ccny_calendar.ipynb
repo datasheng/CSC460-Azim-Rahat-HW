{
 "cells": [
  {
   "cell_type": "markdown",
   "id": "0f8b7253",
   "metadata": {},
   "source": [
    "# imports\n",
    "import requests\n",
    "from bs4 import BeautifulSoup\n",
    "import pandas as pd\n",
    "\n",
    "url = \"https://www.ccny.cuny.edu/registrar/fall\"\n",
    "default_year = 2021 # necessary to fill in blank years"
   ]
  },
  {
   "cell_type": "code",
   "execution_count": null,
   "id": "e279fe8d",
   "metadata": {
    "vscode": {
     "languageId": "plaintext"
    }
   },
   "outputs": [],
   "source": [
    "html_doc = requests.get(url).text\n",
    "soup = BeautifulSoup(html_doc)\n",
    "# print(soup.prettify())\n",
    "table = soup.find_all('table')[0]\n",
    "# print(table)\n",
    "\n",
    "rows = table.find_all('tr')\n",
    "# print(rows)"
   ]
  }
 ],
 "metadata": {
  "language_info": {
   "name": "python"
  }
 },
 "nbformat": 4,
 "nbformat_minor": 5
}
