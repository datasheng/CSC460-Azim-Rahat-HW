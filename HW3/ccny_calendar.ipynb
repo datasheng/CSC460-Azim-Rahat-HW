{
 "cells": [
  {
   "cell_type": "code",
   "execution_count": null,
   "id": "0f8b7253",
   "metadata": {},
   "outputs": [],
   "source": [
    "# imports\n",
    "import requests\n",
    "from bs4 import BeautifulSoup\n",
    "import pandas as pd\n",
    "\n",
    "url = \"https://www.ccny.cuny.edu/registrar/fall\"\n",
    "default_year = ',  2021' # necessary to fill in blank years"
   ]
  },
  {
   "cell_type": "code",
   "execution_count": null,
   "id": "e279fe8d",
   "metadata": {},
   "outputs": [],
   "source": [
    "html_doc = requests.get(url).text\n",
    "soup = BeautifulSoup(html_doc)\n",
    "# print(soup.prettify())\n",
    "table = soup.find_all('table')[0]\n",
    "# print(table)\n",
    "\n",
    "rows = table.find_all('tr')\n",
    "# print(rows)\n",
    "\n",
    "data = {\n",
    "    \"date\": [],\n",
    "    \"dow\": [], # day of week\n",
    "    \"text\": []\n",
    "}\n",
    "\n",
    "def clean_date(s: str) -> str:\n",
    "    # takes the start of a range of dates and adds the default year if necessary\n",
    "    start = s.strip().split('-')[0]\n",
    "    if ',' not in start:\n",
    "        start += default_year\n",
    "    return pd.to_datetime(start.strip(), format=\"%M %d, %Y\").date()\n",
    "\n",
    "def clean_dow(s: str) -> str:\n",
    "    # keeps the first word only (day of week), used for ranges of days\n",
    "    return s.strip().replace(\"\\n\", \" \").replace(\"\\t\", \" \").split()[0]\n",
    "\n",
    "def clean_text(s: str) -> str:\n",
    "    # removes extra spaces, newlines, tabs\n",
    "    return \" \".join(s.strip().split())\n",
    "\n",
    "for tr in rows:\n",
    "    tds = tr.find_all('td')\n",
    "    if tds:\n",
    "        data[\"date\"].append(clean_date(tds[0].get_text()))\n",
    "        data[\"dow\"].append(clean_dow(tds[1].get_text()))\n",
    "        data[\"text\"].append(clean_text(tds[2].get_text()))\n",
    "\n",
    "df = pd.DataFrame(data)\n",
    "df"
   ]
  }
 ],
 "metadata": {
  "kernelspec": {
   "display_name": "Python 3",
   "language": "python",
   "name": "python3"
  },
  "language_info": {
   "codemirror_mode": {
    "name": "ipython",
    "version": 3
   },
   "file_extension": ".py",
   "mimetype": "text/x-python",
   "name": "python",
   "nbconvert_exporter": "python",
   "pygments_lexer": "ipython3",
   "version": "3.13.1"
  }
 },
 "nbformat": 4,
 "nbformat_minor": 5
}
