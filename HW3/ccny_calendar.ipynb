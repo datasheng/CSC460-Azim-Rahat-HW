{
 "cells": [
  {
   "cell_type": "markdown",
   "id": "0f8b7253",
   "metadata": {},
   "source": [
    "# imports\n",
    "import requests\n",
    "from bs4 import BeautifulSoup\n",
    "import pandas as pd\n",
    "\n",
    "url = \"https://www.ccny.cuny.edu/registrar/fall\"\n",
    "default_year = 2021 # necessary to fill in blank years"
   ]
  }
 ],
 "metadata": {
  "language_info": {
   "name": "python"
  }
 },
 "nbformat": 4,
 "nbformat_minor": 5
}
